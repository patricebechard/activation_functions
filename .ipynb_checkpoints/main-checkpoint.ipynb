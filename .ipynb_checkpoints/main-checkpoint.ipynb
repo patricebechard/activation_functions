{
 "cells": [
  {
   "cell_type": "markdown",
   "metadata": {},
   "source": [
    "# Activation Functions\n",
    "\n",
    "I tried to train a MLP on MNIST using various activation functions. These activation functions are :\n",
    "\n",
    "* Sine : $f(x) = \\sin(x)$\n",
    "* Cosine : $f(x) = \\cos(x)$\n",
    "* ReLU : $f(x) = \\max(0,x)$\n",
    "* ReSU: $f(x) = \\max \\left(0, \\mathrm{sign}(x) * \\sqrt{|x|}\\right)$\n",
    "* ReLogU : $f(x) = \\max\\left(0, \\mathrm{sign}(x) * \\log(1+|x|) \\right)$\n",
    "* Leaky ReLu : $f(x) = \\max(x, \\alpha x)$, $\\alpha \\le 1$\n",
    "* Sigmoid : $f(x) = \\sigma(x) = \\frac{1}{1 + \\exp(-x)}$\n",
    "* Tanh : $f(x) = \\tanh(x) = \\frac{\\exp(x) - \\exp(-x)}{\\exp(x) + \\exp(-x)}$\n",
    "* SimLog : $f(x) = \\mathrm{sign}(x) * \\log(1 + |x|)$\n",
    "* SimSqrt : $f(x) = \\mathrm{sign}(x) * \\sqrt{|x|}$\n"
   ]
  },
  {
   "cell_type": "markdown",
   "metadata": {},
   "source": [
    "### Importing modules"
   ]
  },
  {
   "cell_type": "code",
   "execution_count": 1,
   "metadata": {},
   "outputs": [],
   "source": [
    "import torch\n",
    "from torch import optim\n",
    "from torch.autograd import Variable\n",
    "from torch import nn\n",
    "import torch.nn.functional as F\n",
    "\n",
    "import matplotlib.pyplot as plt\n",
    "import sys\n",
    "\n",
    "use_cuda = torch.cuda.is_available()"
   ]
  },
  {
   "cell_type": "markdown",
   "metadata": {},
   "source": [
    "### Defining hyperparameters"
   ]
  },
  {
   "cell_type": "code",
   "execution_count": 19,
   "metadata": {
    "collapsed": true
   },
   "outputs": [],
   "source": [
    "input_size = 784\n",
    "h1 = 500\n",
    "h2 = 500\n",
    "output_size = 10\n",
    "\n",
    "batch_size = 32\n",
    "n_epochs = 25"
   ]
  },
  {
   "cell_type": "markdown",
   "metadata": {},
   "source": [
    "### Loading MNIST dataset"
   ]
  },
  {
   "cell_type": "code",
   "execution_count": 20,
   "metadata": {},
   "outputs": [],
   "source": [
    "from torch.utils.data import DataLoader\n",
    "from torch.utils.data.sampler import SubsetRandomSampler\n",
    "from torchvision.datasets import MNIST\n",
    "from torchvision import transforms\n",
    "\n",
    "transform = transform = transforms.Compose([transforms.ToTensor(),\n",
    "                                            transforms.Normalize((0.5, 0.5, 0.5), (0.5, 0.5, 0.5))])\n",
    "\n",
    "#downloading datasets\n",
    "training_set = MNIST('./mnist', train=True, download=True, transform=transform)\n",
    "valid_set = MNIST('./mnist', train=True, download=True, transform=transform)\n",
    "test_set = MNIST('./mnist', train=False, download=True, transform=transform)\n",
    "\n",
    "num_train = len(training_set)\n",
    "valid_size = len(test_set)          #valid set same size as test set\n",
    "indices = list(range(num_train))\n",
    "\n",
    "#shuffling the indices to sample training and valid dataset\n",
    "np.random.seed(0)\n",
    "np.random.shuffle(indices)\n",
    "\n",
    "train_idx, valid_idx = indices[valid_size:], indices[:valid_size]\n",
    "\n",
    "train_sampler = SubsetRandomSampler(train_idx)\n",
    "valid_sampler = SubsetRandomSampler(valid_idx)\n",
    "\n",
    "dataloaders = {'train': DataLoader(training_set, batch_size=batch_size, sampler=train_sampler),\n",
    "               'valid': DataLoader(valid_set, batch_size=batch_size, sampler=valid_sampler),\n",
    "               'test': DataLoader(test_set, batch_size=batch_size)}\n"
   ]
  },
  {
   "cell_type": "markdown",
   "metadata": {},
   "source": [
    "### Building model"
   ]
  },
  {
   "cell_type": "code",
   "execution_count": 3,
   "metadata": {},
   "outputs": [],
   "source": [
    "class CustomActvClf(nn.Module):\n",
    "    \n",
    "    def __init__(self, actv, input_size=784, h1=500, h2=500, output_size=10):\n",
    "        super(CustomActvClf, self).__init__()\n",
    "        \n",
    "        self.actv = actv()\n",
    "        \n",
    "        self.input_size = input_size\n",
    "        self.h1 = h1\n",
    "        self.h2 = h2\n",
    "        self.output_size = output_size\n",
    "        \n",
    "        self.fc1 = nn.Linear(input_size, h1)\n",
    "        self.fc2 = nn.Linear(h1, h2)\n",
    "        self.fc3 = nn.Linear(h2, output_size)\n",
    "    \n",
    "    def forward(self, x):\n",
    "        \n",
    "        x = self.actv(self.fc1(x))\n",
    "        x = self.actv(self.fc2(x))\n",
    "        x = self.fc3(x)\n",
    "        \n",
    "        return x"
   ]
  },
  {
   "cell_type": "markdown",
   "metadata": {},
   "source": [
    "### Defining training and evaluation functions"
   ]
  },
  {
   "cell_type": "code",
   "execution_count": 46,
   "metadata": {
    "collapsed": true
   },
   "outputs": [],
   "source": [
    "def train(model, dataloaders, n_epochs, learning_rate=1e-3):\n",
    "    \n",
    "    if use_cuda:\n",
    "        model = model.cuda()\n",
    "\n",
    "    criterion = nn.CrossEntropyLoss()\n",
    "    optimizer = optim.Adam(model.parameters(), lr=learning_rate)\n",
    "\n",
    "    #empty lists to track progress of loss and accuracy of datasets\n",
    "    loss_tracker = []\n",
    "    train_acc_tracker = []\n",
    "    valid_acc_tracker = []\n",
    "    test_acc_tracker = []\n",
    "\n",
    "    for epoch in range(n_epochs):\n",
    "        \n",
    "        model.train()\n",
    "        \n",
    "        epoch_loss = 0\n",
    "        n_correct = 0\n",
    "        n_examples = 0\n",
    "        \n",
    "        for inputs, targets in dataloaders['train']:\n",
    "            \n",
    "            optimizer.zero_grad()\n",
    "            \n",
    "            inputs = inputs.view(-1, model.input_size)\n",
    "            inputs, targets = Variable(inputs), Variable(targets)\n",
    "            \n",
    "            if use_cuda:\n",
    "                inputs, targets = inputs.cuda(), targets.cuda()\n",
    "                \n",
    "            outputs = model(inputs)\n",
    "            \n",
    "            loss = criterion(outputs, targets)\n",
    "            epoch_loss += loss.data[0]     # for PyTorch 0.3.0\n",
    "#             epoch_loss += loss.item()     # for PyTorch 0.4.0\n",
    "            loss.backward()\n",
    "            optimizer.step()\n",
    "            \n",
    "            _, predictions = outputs.max(1)\n",
    "            n_correct += torch.sum(torch.eq(predictions, targets)).data[0]  # for PyTorch 0.3.0\n",
    "#             n_correct += torch.sum(torch.eq(predictions, targets)).item()   # for PyTorch 0.4.0\n",
    "            n_examples += len(inputs)\n",
    "        \n",
    "        loss_tracker.append(epoch_loss / len(dataloaders['train']))\n",
    "        train_acc_tracker.append((n_correct / n_examples) * 100)\n",
    "        valid_acc_tracker.append(evaluate(model, dataloaders['valid']))\n",
    "        \n",
    "        print(\"Epoch : %d ----- Loss : %.2f ----- Train acc : %.2f%% ----- Valid acc : %.2f%%\"\n",
    "              % (epoch, loss_tracker[-1], train_acc_tracker[-1], valid_acc_tracker[-1]))\n",
    "        \n",
    "    return loss_tracker, train_acc_tracker, valid_acc_tracker\n",
    "\n"
   ]
  },
  {
   "cell_type": "code",
   "execution_count": 44,
   "metadata": {
    "collapsed": true
   },
   "outputs": [],
   "source": [
    "def evaluate(model, dataloader):\n",
    "    \n",
    "    n_correct = 0\n",
    "    n_examples = 0\n",
    "    \n",
    "    model.eval()\n",
    "    \n",
    "    for inputs, targets in dataloader:\n",
    "        \n",
    "        inputs = inputs.view(-1, model.input_size)\n",
    "\n",
    "        inputs, targets = Variable(inputs), Variable(targets)\n",
    "        if use_cuda:\n",
    "            inputs, targets = inputs.cuda(), targets.cuda()\n",
    "\n",
    "        outputs = model(inputs)\n",
    "        \n",
    "        _, predictions = outputs.max(1)\n",
    "        n_correct += torch.sum(torch.eq(predictions, targets)).data[0]  # for PyTorch 0.3.0\n",
    "#         n_correct += torch.sum(torch.eq(predictions, targets)).item()  # for PyTorch 0.4.0\n",
    "        n_examples += len(inputs)\n",
    "            \n",
    "    accuracy = (n_correct / n_examples) * 100\n",
    "    \n",
    "    return accuracy"
   ]
  },
  {
   "cell_type": "markdown",
   "metadata": {},
   "source": [
    "### Training models"
   ]
  },
  {
   "cell_type": "code",
   "execution_count": 2,
   "metadata": {},
   "outputs": [],
   "source": [
    "import activations as actv"
   ]
  },
  {
   "cell_type": "markdown",
   "metadata": {},
   "source": [
    "##### Cosine model"
   ]
  },
  {
   "cell_type": "code",
   "execution_count": 49,
   "metadata": {},
   "outputs": [
    {
     "name": "stdout",
     "output_type": "stream",
     "text": [
      "Epoch : 0 ----- Loss : 0.30 ----- Train acc : 90.74% ----- Valid acc : 93.39%\n",
      "Epoch : 1 ----- Loss : 0.23 ----- Train acc : 93.18% ----- Valid acc : 89.13%\n",
      "Epoch : 2 ----- Loss : 0.21 ----- Train acc : 93.69% ----- Valid acc : 93.34%\n",
      "Epoch : 3 ----- Loss : 0.20 ----- Train acc : 94.07% ----- Valid acc : 93.38%\n",
      "Epoch : 4 ----- Loss : 0.20 ----- Train acc : 93.91% ----- Valid acc : 94.63%\n",
      "Epoch : 5 ----- Loss : 0.20 ----- Train acc : 94.00% ----- Valid acc : 93.73%\n",
      "Epoch : 6 ----- Loss : 0.21 ----- Train acc : 93.73% ----- Valid acc : 93.42%\n"
     ]
    },
    {
     "name": "stderr",
     "output_type": "stream",
     "text": [
      "Exception ignored in: <bound method Image.__del__ of <PIL.Image.Image image mode=L size=28x28 at 0x129F7D6A0>>\n",
      "Traceback (most recent call last):\n",
      "  File \"/Users/user/anaconda3/lib/python3.6/site-packages/PIL/Image.py\", line 572, in __del__\n",
      "    if (hasattr(self, 'fp') and hasattr(self, '_exclusive_fp')\n",
      "KeyboardInterrupt\n"
     ]
    },
    {
     "ename": "KeyboardInterrupt",
     "evalue": "",
     "output_type": "error",
     "traceback": [
      "\u001b[0;31m---------------------------------------------------------------------------\u001b[0m",
      "\u001b[0;31mKeyboardInterrupt\u001b[0m                         Traceback (most recent call last)",
      "\u001b[0;32m<ipython-input-49-34d65e77b0f2>\u001b[0m in \u001b[0;36m<module>\u001b[0;34m()\u001b[0m\n\u001b[1;32m      1\u001b[0m \u001b[0mmodel\u001b[0m \u001b[0;34m=\u001b[0m \u001b[0mCustomActvClf\u001b[0m\u001b[0;34m(\u001b[0m\u001b[0mCos\u001b[0m\u001b[0;34m)\u001b[0m\u001b[0;34m\u001b[0m\u001b[0m\n\u001b[0;32m----> 2\u001b[0;31m \u001b[0mloss_cos\u001b[0m\u001b[0;34m,\u001b[0m \u001b[0mtrain_acc_cos\u001b[0m\u001b[0;34m,\u001b[0m \u001b[0mvalid_acc_cos\u001b[0m \u001b[0;34m=\u001b[0m \u001b[0mtrain\u001b[0m\u001b[0;34m(\u001b[0m\u001b[0mmodel\u001b[0m\u001b[0;34m,\u001b[0m \u001b[0mdataloaders\u001b[0m\u001b[0;34m,\u001b[0m \u001b[0mn_epochs\u001b[0m\u001b[0;34m)\u001b[0m\u001b[0;34m\u001b[0m\u001b[0m\n\u001b[0m",
      "\u001b[0;32m<ipython-input-46-cd2394d8b8b9>\u001b[0m in \u001b[0;36mtrain\u001b[0;34m(model, dataloaders, n_epochs, learning_rate)\u001b[0m\n\u001b[1;32m     37\u001b[0m \u001b[0;31m#             epoch_loss += loss.item()\u001b[0m\u001b[0;34m\u001b[0m\u001b[0;34m\u001b[0m\u001b[0m\n\u001b[1;32m     38\u001b[0m             \u001b[0mloss\u001b[0m\u001b[0;34m.\u001b[0m\u001b[0mbackward\u001b[0m\u001b[0;34m(\u001b[0m\u001b[0;34m)\u001b[0m\u001b[0;34m\u001b[0m\u001b[0m\n\u001b[0;32m---> 39\u001b[0;31m             \u001b[0moptimizer\u001b[0m\u001b[0;34m.\u001b[0m\u001b[0mstep\u001b[0m\u001b[0;34m(\u001b[0m\u001b[0;34m)\u001b[0m\u001b[0;34m\u001b[0m\u001b[0m\n\u001b[0m\u001b[1;32m     40\u001b[0m \u001b[0;34m\u001b[0m\u001b[0m\n\u001b[1;32m     41\u001b[0m             \u001b[0m_\u001b[0m\u001b[0;34m,\u001b[0m \u001b[0mpredictions\u001b[0m \u001b[0;34m=\u001b[0m \u001b[0moutputs\u001b[0m\u001b[0;34m.\u001b[0m\u001b[0mmax\u001b[0m\u001b[0;34m(\u001b[0m\u001b[0;36m1\u001b[0m\u001b[0;34m)\u001b[0m\u001b[0;34m\u001b[0m\u001b[0m\n",
      "\u001b[0;32m~/anaconda3/lib/python3.6/site-packages/torch/optim/adam.py\u001b[0m in \u001b[0;36mstep\u001b[0;34m(self, closure)\u001b[0m\n\u001b[1;32m     70\u001b[0m                 \u001b[0mexp_avg_sq\u001b[0m\u001b[0;34m.\u001b[0m\u001b[0mmul_\u001b[0m\u001b[0;34m(\u001b[0m\u001b[0mbeta2\u001b[0m\u001b[0;34m)\u001b[0m\u001b[0;34m.\u001b[0m\u001b[0maddcmul_\u001b[0m\u001b[0;34m(\u001b[0m\u001b[0;36m1\u001b[0m \u001b[0;34m-\u001b[0m \u001b[0mbeta2\u001b[0m\u001b[0;34m,\u001b[0m \u001b[0mgrad\u001b[0m\u001b[0;34m,\u001b[0m \u001b[0mgrad\u001b[0m\u001b[0;34m)\u001b[0m\u001b[0;34m\u001b[0m\u001b[0m\n\u001b[1;32m     71\u001b[0m \u001b[0;34m\u001b[0m\u001b[0m\n\u001b[0;32m---> 72\u001b[0;31m                 \u001b[0mdenom\u001b[0m \u001b[0;34m=\u001b[0m \u001b[0mexp_avg_sq\u001b[0m\u001b[0;34m.\u001b[0m\u001b[0msqrt\u001b[0m\u001b[0;34m(\u001b[0m\u001b[0;34m)\u001b[0m\u001b[0;34m.\u001b[0m\u001b[0madd_\u001b[0m\u001b[0;34m(\u001b[0m\u001b[0mgroup\u001b[0m\u001b[0;34m[\u001b[0m\u001b[0;34m'eps'\u001b[0m\u001b[0;34m]\u001b[0m\u001b[0;34m)\u001b[0m\u001b[0;34m\u001b[0m\u001b[0m\n\u001b[0m\u001b[1;32m     73\u001b[0m \u001b[0;34m\u001b[0m\u001b[0m\n\u001b[1;32m     74\u001b[0m                 \u001b[0mbias_correction1\u001b[0m \u001b[0;34m=\u001b[0m \u001b[0;36m1\u001b[0m \u001b[0;34m-\u001b[0m \u001b[0mbeta1\u001b[0m \u001b[0;34m**\u001b[0m \u001b[0mstate\u001b[0m\u001b[0;34m[\u001b[0m\u001b[0;34m'step'\u001b[0m\u001b[0;34m]\u001b[0m\u001b[0;34m\u001b[0m\u001b[0m\n",
      "\u001b[0;31mKeyboardInterrupt\u001b[0m: "
     ]
    }
   ],
   "source": [
    "model = CustomActvClf(actv.Cos)\n",
    "loss_cos, train_acc_cos, valid_acc_cos = train(model, dataloaders, n_epochs)"
   ]
  },
  {
   "cell_type": "markdown",
   "metadata": {},
   "source": [
    "##### Sine model"
   ]
  },
  {
   "cell_type": "code",
   "execution_count": null,
   "metadata": {},
   "outputs": [],
   "source": [
    "model = CustomActvClf(actv.Sin)\n",
    "loss_sin, train_acc_sin, valid_acc_sin = train(model, dataloaders, n_epochs)"
   ]
  },
  {
   "cell_type": "markdown",
   "metadata": {},
   "source": [
    "##### ReLU model"
   ]
  },
  {
   "cell_type": "code",
   "execution_count": null,
   "metadata": {},
   "outputs": [],
   "source": [
    "model = CustomActvClf(nn.ReLU)\n",
    "loss_relu, train_acc_relu, valid_acc_relu = train(model, dataloaders, n_epochs)"
   ]
  },
  {
   "cell_type": "markdown",
   "metadata": {},
   "source": [
    "##### ReSU model"
   ]
  },
  {
   "cell_type": "code",
   "execution_count": null,
   "metadata": {},
   "outputs": [],
   "source": [
    "model = CustomActvClf(actv.ReSU)\n",
    "loss_resu, train_acc_resu, valid_acc_resu = train(model, dataloaders, n_epochs)"
   ]
  },
  {
   "cell_type": "markdown",
   "metadata": {},
   "source": [
    "##### ReLogU model"
   ]
  },
  {
   "cell_type": "code",
   "execution_count": null,
   "metadata": {},
   "outputs": [],
   "source": [
    "model = CustomActvClf(actv.ReLogU)\n",
    "loss_relogu, train_acc_relogu, valid_acc_relogu = train(model, dataloaders, n_epochs)"
   ]
  },
  {
   "cell_type": "markdown",
   "metadata": {},
   "source": [
    "##### Leaky ReLU model"
   ]
  },
  {
   "cell_type": "code",
   "execution_count": null,
   "metadata": {},
   "outputs": [],
   "source": [
    "model = CustomActvClf(nn.LeakyReLU)\n",
    "loss_leakyrelu, train_acc_leakyrelu, valid_acc_leakyrelu = train(model, dataloaders, n_epochs)"
   ]
  },
  {
   "cell_type": "markdown",
   "metadata": {},
   "source": [
    "##### Sigmoid model"
   ]
  },
  {
   "cell_type": "code",
   "execution_count": null,
   "metadata": {},
   "outputs": [],
   "source": [
    "model = CustomActvClf(nn.Sigmoid)\n",
    "loss_sigmoid, train_acc_sigmoid, valid_acc_sigmoid = train(model, dataloaders, n_epochs)"
   ]
  },
  {
   "cell_type": "markdown",
   "metadata": {},
   "source": [
    "##### Tanh model"
   ]
  },
  {
   "cell_type": "code",
   "execution_count": null,
   "metadata": {},
   "outputs": [],
   "source": [
    "model = CustomActvClf(nn.Tanh)\n",
    "loss_tanh, train_acc_tanh, valid_acc_tanh = train(model, dataloaders, n_epochs)"
   ]
  },
  {
   "cell_type": "markdown",
   "metadata": {},
   "source": [
    "##### SimSqrt model"
   ]
  },
  {
   "cell_type": "code",
   "execution_count": null,
   "metadata": {},
   "outputs": [],
   "source": [
    "model = CustomActvClf(actv.SimSqrt)\n",
    "loss_simsqrt, train_acc_simsqrt, valid_acc_simsqrt = train(model, dataloaders, n_epochs)"
   ]
  },
  {
   "cell_type": "markdown",
   "metadata": {},
   "source": [
    "##### SimLog model"
   ]
  },
  {
   "cell_type": "code",
   "execution_count": null,
   "metadata": {},
   "outputs": [],
   "source": [
    "model = CustomActvClf(actv.SimLog)\n",
    "loss_simlog, train_acc_simlog, valid_acc_simlog = train(model, dataloaders, n_epochs)"
   ]
  },
  {
   "cell_type": "markdown",
   "metadata": {},
   "source": [
    "##### SoftSign model"
   ]
  },
  {
   "cell_type": "code",
   "execution_count": null,
   "metadata": {},
   "outputs": [],
   "source": [
    "model = CustomActvClf(nn.Softsign)\n",
    "loss_softsign, train_acc_softsign, valid_acc_softsign = train(model, dataloaders, n_epochs)"
   ]
  },
  {
   "cell_type": "code",
   "execution_count": 12,
   "metadata": {},
   "outputs": [
    {
     "data": {
      "image/png": "[encoded data removed]",
      "text/plain": [
       "<matplotlib.figure.Figure at 0x1142e6da0>"
      ]
     },
     "metadata": {},
     "output_type": "display_data"
    }
   ],
   "source": [
    "#plt.plot(loss_relu, label='relu')\n",
    "#plt.plot(loss_leaky, label='leakytanh')\n",
    "#plt.plot(loss_soft, label='softsign')\n",
    "plt.plot(loss_relogu, label='relogu')\n",
    "plt.legend(fancybox=True)\n",
    "plt.show()"
   ]
  },
  {
   "cell_type": "code",
   "execution_count": 16,
   "metadata": {},
   "outputs": [
    {
     "data": {
      "image/png": "[encoded data removed]",
      "text/plain": [
       "<matplotlib.figure.Figure at 0x127df75f8>"
      ]
     },
     "metadata": {},
     "output_type": "display_data"
    }
   ],
   "source": [
    "plt.plot(train_acc_relu, label='Train relu')\n",
    "plt.plot(valid_acc_relu, label='Valid relu')\n",
    "plt.plot(train_acc_leaky, label='Train leakytanh')\n",
    "plt.plot(valid_acc_leaky, label='Valid leakytanh')\n",
    "\n",
    "plt.legend(fancybox=True)\n",
    "plt.show()"
   ]
  },
  {
   "cell_type": "code",
   "execution_count": null,
   "metadata": {
    "collapsed": true
   },
   "outputs": [],
   "source": []
  }
 ],
 "metadata": {
  "kernelspec": {
   "display_name": "Python 3",
   "language": "python",
   "name": "python3"
  },
  "language_info": {
   "codemirror_mode": {
    "name": "ipython",
    "version": 3
   },
   "file_extension": ".py",
   "mimetype": "text/x-python",
   "name": "python",
   "nbconvert_exporter": "python",
   "pygments_lexer": "ipython3",
   "version": "3.6.2"
  }
 },
 "nbformat": 4,
 "nbformat_minor": 2
}
