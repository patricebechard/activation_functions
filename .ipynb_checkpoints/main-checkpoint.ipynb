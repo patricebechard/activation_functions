{
 "cells": [
  {
   "cell_type": "markdown",
   "metadata": {},
   "source": [
    "# Activation Functions\n",
    "\n",
    "I tried to train a MLP on MNIST using various activation functions. These activation functions are :\n",
    "\n",
    "* Sine : $f(x) = \\sin(x)$\n",
    "* Cosine : $f(x) = \\cos(x)$\n",
    "* ReLU : $f(x) = \\max(0,x)$\n",
    "* ReSU: $f(x) = \\max \\left(0, \\mathrm{sign}(x) * \\sqrt{|x|}\\right)$\n",
    "* ReLogU : $f(x) = \\max\\left(0, \\mathrm{sign}(x) * \\log(1+|x|) \\right)$\n",
    "* Leaky ReLu : $f(x) = \\max(x, \\alpha x)$, $\\alpha \\le 1$\n",
    "* Sigmoid : $f(x) = \\sigma(x) = \\frac{1}{1 + \\exp(-x)}$\n",
    "* Tanh : $f(x) = \\tanh(x) = \\frac{\\exp(x) - \\exp(-x)}{\\exp(x) + \\exp(-x)}$\n",
    "* SimLog : $f(x) = \\mathrm{sign}(x) * \\log(1 + |x|)$\n",
    "* SimSqrt : $f(x) = \\mathrm{sign}(x) * \\sqrt{|x|}$\n"
   ]
  },
  {
   "cell_type": "markdown",
   "metadata": {},
   "source": [
    "### Importing modules"
   ]
  },
  {
   "cell_type": "code",
   "execution_count": 13,
   "metadata": {},
   "outputs": [],
   "source": [
    "import torch\n",
    "from torch import optim\n",
    "from torch.autograd import Variable\n",
    "from torch import nn\n",
    "import torch.nn.functional as F\n",
    "\n",
    "import numpy as np\n",
    "import matplotlib.pyplot as plt\n",
    "import sys\n",
    "import os\n",
    "\n",
    "use_cuda = torch.cuda.is_available()"
   ]
  },
  {
   "cell_type": "markdown",
   "metadata": {},
   "source": [
    "### Defining hyperparameters"
   ]
  },
  {
   "cell_type": "code",
   "execution_count": 16,
   "metadata": {
    "collapsed": true
   },
   "outputs": [],
   "source": [
    "input_size = 784\n",
    "h1 = 500\n",
    "h2 = 500\n",
    "output_size = 10\n",
    "\n",
    "batch_size = 32\n",
    "n_epochs = 25\n",
    "results_dir = './results/'\n",
    "\n",
    "if not os.path.exists(results_dir):\n",
    "    os.mkdir(results_dir)"
   ]
  },
  {
   "cell_type": "markdown",
   "metadata": {},
   "source": [
    "### Loading MNIST dataset"
   ]
  },
  {
   "cell_type": "code",
   "execution_count": 6,
   "metadata": {},
   "outputs": [],
   "source": [
    "from torch.utils.data import DataLoader\n",
    "from torch.utils.data.sampler import SubsetRandomSampler\n",
    "from torchvision.datasets import MNIST\n",
    "from torchvision import transforms\n",
    "\n",
    "transform = transform = transforms.Compose([transforms.ToTensor(),\n",
    "                                            transforms.Normalize((0.5, 0.5, 0.5), (0.5, 0.5, 0.5))])\n",
    "\n",
    "#downloading datasets\n",
    "training_set = MNIST('./mnist', train=True, download=True, transform=transform)\n",
    "valid_set = MNIST('./mnist', train=True, download=True, transform=transform)\n",
    "test_set = MNIST('./mnist', train=False, download=True, transform=transform)\n",
    "\n",
    "num_train = len(training_set)\n",
    "valid_size = len(test_set)          #valid set same size as test set\n",
    "indices = list(range(num_train))\n",
    "\n",
    "#shuffling the indices to sample training and valid dataset\n",
    "np.random.seed(0)\n",
    "np.random.shuffle(indices)\n",
    "\n",
    "train_idx, valid_idx = indices[valid_size:], indices[:valid_size]\n",
    "\n",
    "train_sampler = SubsetRandomSampler(train_idx)\n",
    "valid_sampler = SubsetRandomSampler(valid_idx)\n",
    "\n",
    "dataloaders = {'train': DataLoader(training_set, batch_size=batch_size, sampler=train_sampler),\n",
    "               'valid': DataLoader(valid_set, batch_size=batch_size, sampler=valid_sampler),\n",
    "               'test': DataLoader(test_set, batch_size=batch_size)}\n"
   ]
  },
  {
   "cell_type": "markdown",
   "metadata": {},
   "source": [
    "### Building model"
   ]
  },
  {
   "cell_type": "code",
   "execution_count": 21,
   "metadata": {},
   "outputs": [],
   "source": [
    "class CustomActvClf(nn.Module):\n",
    "    \n",
    "    def __init__(self, actv, input_size=784, h1=500, h2=500, output_size=10, name='model'):\n",
    "        super(CustomActvClf, self).__init__()\n",
    "        \n",
    "        self.actv = actv()\n",
    "        self.name = name\n",
    "        \n",
    "        self.input_size = input_size\n",
    "        self.h1 = h1\n",
    "        self.h2 = h2\n",
    "        self.output_size = output_size\n",
    "        \n",
    "        self.fc1 = nn.Linear(input_size, h1)\n",
    "        self.fc2 = nn.Linear(h1, h2)\n",
    "        self.fc3 = nn.Linear(h2, output_size)\n",
    "    \n",
    "    def forward(self, x):\n",
    "        \n",
    "        x = self.actv(self.fc1(x))\n",
    "        x = self.actv(self.fc2(x))\n",
    "        x = self.fc3(x)\n",
    "        \n",
    "        return x"
   ]
  },
  {
   "cell_type": "markdown",
   "metadata": {},
   "source": [
    "### Defining training and evaluation functions"
   ]
  },
  {
   "cell_type": "code",
   "execution_count": 17,
   "metadata": {
    "collapsed": true
   },
   "outputs": [],
   "source": [
    "def train(model, dataloaders, n_epochs, learning_rate=1e-3):\n",
    "    \n",
    "    if use_cuda:\n",
    "        model = model.cuda()\n",
    "\n",
    "    criterion = nn.CrossEntropyLoss()\n",
    "    optimizer = optim.Adam(model.parameters(), lr=learning_rate)\n",
    "\n",
    "    #empty lists to track progress of loss and accuracy of datasets\n",
    "    loss_tracker = []\n",
    "    train_acc_tracker = []\n",
    "    valid_acc_tracker = []\n",
    "    test_acc_tracker = []\n",
    "\n",
    "    for epoch in range(n_epochs):\n",
    "        \n",
    "        model.train()\n",
    "        \n",
    "        epoch_loss = 0\n",
    "        n_correct = 0\n",
    "        n_examples = 0\n",
    "        \n",
    "        for inputs, targets in dataloaders['train']:\n",
    "            \n",
    "            optimizer.zero_grad()\n",
    "            \n",
    "            inputs = inputs.view(-1, model.input_size)\n",
    "            inputs, targets = Variable(inputs), Variable(targets)\n",
    "            \n",
    "            if use_cuda:\n",
    "                inputs, targets = inputs.cuda(), targets.cuda()\n",
    "                \n",
    "            outputs = model(inputs)\n",
    "            \n",
    "            loss = criterion(outputs, targets)\n",
    "#             epoch_loss += loss.data[0]     # for PyTorch 0.3.0\n",
    "            epoch_loss += loss.item()     # for PyTorch 0.4.0\n",
    "            loss.backward()\n",
    "            optimizer.step()\n",
    "            \n",
    "            _, predictions = outputs.max(1)\n",
    "#             n_correct += torch.sum(torch.eq(predictions, targets)).data[0]  # for PyTorch 0.3.0\n",
    "            n_correct += torch.sum(torch.eq(predictions, targets)).item()   # for PyTorch 0.4.0\n",
    "            n_examples += len(inputs)\n",
    "        \n",
    "        loss_tracker.append(epoch_loss / len(dataloaders['train']))\n",
    "        train_acc_tracker.append((n_correct / n_examples) * 100)\n",
    "        valid_acc_tracker.append(evaluate(model, dataloaders['valid']))\n",
    "        \n",
    "        print(\"Epoch : %d ----- Loss : %.2f ----- Train acc : %.2f%% ----- Valid acc : %.2f%%\"\n",
    "              % (epoch, loss_tracker[-1], train_acc_tracker[-1], valid_acc_tracker[-1]))\n",
    "        \n",
    "    np.savetxt(results_dir + model.name + '_loss.txt', loss_tracker)\n",
    "    np.savetxt(results_dir + model.name + '_train_acc.txt', train_acc_tracker)\n",
    "    np.savetxt(results_dir + model.name + '_valid_acc.txt', valid_acc_tracker)\n"
   ]
  },
  {
   "cell_type": "code",
   "execution_count": 18,
   "metadata": {
    "collapsed": true
   },
   "outputs": [],
   "source": [
    "def evaluate(model, dataloader):\n",
    "    \n",
    "    n_correct = 0\n",
    "    n_examples = 0\n",
    "    \n",
    "    model.eval()\n",
    "    \n",
    "    for inputs, targets in dataloader:\n",
    "        \n",
    "        inputs = inputs.view(-1, model.input_size)\n",
    "\n",
    "        inputs, targets = Variable(inputs), Variable(targets)\n",
    "        if use_cuda:\n",
    "            inputs, targets = inputs.cuda(), targets.cuda()\n",
    "\n",
    "        outputs = model(inputs)\n",
    "        \n",
    "        _, predictions = outputs.max(1)\n",
    "#         n_correct += torch.sum(torch.eq(predictions, targets)).data[0]  # for PyTorch 0.3.0\n",
    "        n_correct += torch.sum(torch.eq(predictions, targets)).item()  # for PyTorch 0.4.0\n",
    "        n_examples += len(inputs)\n",
    "            \n",
    "    accuracy = (n_correct / n_examples) * 100\n",
    "    \n",
    "    return accuracy"
   ]
  },
  {
   "cell_type": "markdown",
   "metadata": {},
   "source": [
    "### Training models"
   ]
  },
  {
   "cell_type": "code",
   "execution_count": 19,
   "metadata": {},
   "outputs": [],
   "source": [
    "import activations as actv"
   ]
  },
  {
   "cell_type": "markdown",
   "metadata": {},
   "source": [
    "##### Cosine model"
   ]
  },
  {
   "cell_type": "code",
   "execution_count": 22,
   "metadata": {},
   "outputs": [
    {
     "name": "stdout",
     "output_type": "stream",
     "text": [
      "Epoch : 0 ----- Loss : 0.31 ----- Train acc : 90.70% ----- Valid acc : 94.32%\n",
      "Epoch : 1 ----- Loss : 0.23 ----- Train acc : 92.98% ----- Valid acc : 93.67%\n",
      "Epoch : 2 ----- Loss : 0.21 ----- Train acc : 93.86% ----- Valid acc : 92.16%\n",
      "Epoch : 3 ----- Loss : 0.20 ----- Train acc : 93.92% ----- Valid acc : 92.88%\n",
      "Epoch : 4 ----- Loss : 0.21 ----- Train acc : 93.88% ----- Valid acc : 93.74%\n",
      "Epoch : 5 ----- Loss : 0.20 ----- Train acc : 93.92% ----- Valid acc : 91.31%\n",
      "Epoch : 6 ----- Loss : 0.20 ----- Train acc : 93.86% ----- Valid acc : 90.23%\n",
      "Epoch : 7 ----- Loss : 0.20 ----- Train acc : 93.90% ----- Valid acc : 92.70%\n",
      "Epoch : 8 ----- Loss : 0.20 ----- Train acc : 93.99% ----- Valid acc : 93.08%\n",
      "Epoch : 9 ----- Loss : 0.20 ----- Train acc : 93.83% ----- Valid acc : 93.27%\n",
      "Epoch : 10 ----- Loss : 0.20 ----- Train acc : 93.86% ----- Valid acc : 92.45%\n",
      "Epoch : 11 ----- Loss : 0.20 ----- Train acc : 94.11% ----- Valid acc : 93.15%\n",
      "Epoch : 12 ----- Loss : 0.21 ----- Train acc : 93.79% ----- Valid acc : 92.70%\n",
      "Epoch : 13 ----- Loss : 0.21 ----- Train acc : 93.97% ----- Valid acc : 94.03%\n",
      "Epoch : 14 ----- Loss : 0.20 ----- Train acc : 94.18% ----- Valid acc : 93.40%\n",
      "Epoch : 15 ----- Loss : 0.21 ----- Train acc : 93.86% ----- Valid acc : 92.33%\n",
      "Epoch : 16 ----- Loss : 0.20 ----- Train acc : 94.08% ----- Valid acc : 94.26%\n",
      "Epoch : 17 ----- Loss : 0.20 ----- Train acc : 94.13% ----- Valid acc : 92.75%\n",
      "Epoch : 18 ----- Loss : 0.20 ----- Train acc : 94.03% ----- Valid acc : 94.45%\n",
      "Epoch : 19 ----- Loss : 0.20 ----- Train acc : 94.25% ----- Valid acc : 92.57%\n",
      "Epoch : 20 ----- Loss : 0.20 ----- Train acc : 93.90% ----- Valid acc : 92.87%\n",
      "Epoch : 21 ----- Loss : 0.19 ----- Train acc : 94.25% ----- Valid acc : 93.14%\n",
      "Epoch : 22 ----- Loss : 0.19 ----- Train acc : 94.30% ----- Valid acc : 93.75%\n",
      "Epoch : 23 ----- Loss : 0.20 ----- Train acc : 93.94% ----- Valid acc : 90.48%\n",
      "Epoch : 24 ----- Loss : 0.19 ----- Train acc : 94.06% ----- Valid acc : 93.76%\n"
     ]
    }
   ],
   "source": [
    "model = CustomActvClf(actv.Cos, name='cos')\n",
    "train(model, dataloaders, n_epochs)"
   ]
  },
  {
   "cell_type": "markdown",
   "metadata": {},
   "source": [
    "##### Sine model"
   ]
  },
  {
   "cell_type": "code",
   "execution_count": 23,
   "metadata": {},
   "outputs": [
    {
     "name": "stdout",
     "output_type": "stream",
     "text": [
      "Epoch : 0 ----- Loss : 0.31 ----- Train acc : 90.45% ----- Valid acc : 91.62%\n",
      "Epoch : 1 ----- Loss : 0.23 ----- Train acc : 93.07% ----- Valid acc : 94.10%\n",
      "Epoch : 2 ----- Loss : 0.21 ----- Train acc : 93.55% ----- Valid acc : 92.84%\n",
      "Epoch : 3 ----- Loss : 0.20 ----- Train acc : 93.85% ----- Valid acc : 94.95%\n",
      "Epoch : 4 ----- Loss : 0.20 ----- Train acc : 93.92% ----- Valid acc : 94.00%\n",
      "Epoch : 5 ----- Loss : 0.20 ----- Train acc : 93.92% ----- Valid acc : 93.09%\n",
      "Epoch : 6 ----- Loss : 0.20 ----- Train acc : 93.84% ----- Valid acc : 92.28%\n",
      "Epoch : 7 ----- Loss : 0.19 ----- Train acc : 94.14% ----- Valid acc : 92.72%\n",
      "Epoch : 8 ----- Loss : 0.20 ----- Train acc : 93.98% ----- Valid acc : 93.21%\n",
      "Epoch : 9 ----- Loss : 0.20 ----- Train acc : 94.06% ----- Valid acc : 93.81%\n",
      "Epoch : 10 ----- Loss : 0.20 ----- Train acc : 93.88% ----- Valid acc : 92.87%\n",
      "Epoch : 11 ----- Loss : 0.20 ----- Train acc : 93.88% ----- Valid acc : 93.28%\n",
      "Epoch : 12 ----- Loss : 0.19 ----- Train acc : 94.14% ----- Valid acc : 94.30%\n",
      "Epoch : 13 ----- Loss : 0.21 ----- Train acc : 93.69% ----- Valid acc : 92.01%\n",
      "Epoch : 14 ----- Loss : 0.20 ----- Train acc : 93.87% ----- Valid acc : 92.58%\n",
      "Epoch : 15 ----- Loss : 0.20 ----- Train acc : 93.82% ----- Valid acc : 91.60%\n",
      "Epoch : 16 ----- Loss : 0.20 ----- Train acc : 94.09% ----- Valid acc : 93.26%\n",
      "Epoch : 17 ----- Loss : 0.20 ----- Train acc : 94.01% ----- Valid acc : 93.29%\n",
      "Epoch : 18 ----- Loss : 0.20 ----- Train acc : 93.97% ----- Valid acc : 92.51%\n",
      "Epoch : 19 ----- Loss : 0.19 ----- Train acc : 94.11% ----- Valid acc : 90.86%\n",
      "Epoch : 20 ----- Loss : 0.20 ----- Train acc : 93.96% ----- Valid acc : 92.75%\n",
      "Epoch : 21 ----- Loss : 0.19 ----- Train acc : 94.04% ----- Valid acc : 91.76%\n",
      "Epoch : 22 ----- Loss : 0.18 ----- Train acc : 94.48% ----- Valid acc : 92.54%\n",
      "Epoch : 23 ----- Loss : 0.19 ----- Train acc : 94.20% ----- Valid acc : 90.96%\n",
      "Epoch : 24 ----- Loss : 0.19 ----- Train acc : 94.18% ----- Valid acc : 91.07%\n"
     ]
    }
   ],
   "source": [
    "model = CustomActvClf(actv.Sin, name='sin')\n",
    "train(model, dataloaders, n_epochs)"
   ]
  },
  {
   "cell_type": "markdown",
   "metadata": {},
   "source": [
    "##### ReLU model"
   ]
  },
  {
   "cell_type": "code",
   "execution_count": 24,
   "metadata": {},
   "outputs": [
    {
     "name": "stdout",
     "output_type": "stream",
     "text": [
      "Epoch : 0 ----- Loss : 0.30 ----- Train acc : 90.62% ----- Valid acc : 95.49%\n",
      "Epoch : 1 ----- Loss : 0.15 ----- Train acc : 95.23% ----- Valid acc : 95.62%\n",
      "Epoch : 2 ----- Loss : 0.12 ----- Train acc : 96.43% ----- Valid acc : 96.47%\n",
      "Epoch : 3 ----- Loss : 0.10 ----- Train acc : 96.81% ----- Valid acc : 96.21%\n",
      "Epoch : 4 ----- Loss : 0.08 ----- Train acc : 97.45% ----- Valid acc : 97.26%\n",
      "Epoch : 5 ----- Loss : 0.07 ----- Train acc : 97.54% ----- Valid acc : 97.13%\n",
      "Epoch : 6 ----- Loss : 0.06 ----- Train acc : 98.01% ----- Valid acc : 97.24%\n",
      "Epoch : 7 ----- Loss : 0.06 ----- Train acc : 98.10% ----- Valid acc : 96.51%\n",
      "Epoch : 8 ----- Loss : 0.05 ----- Train acc : 98.26% ----- Valid acc : 97.61%\n",
      "Epoch : 9 ----- Loss : 0.05 ----- Train acc : 98.41% ----- Valid acc : 97.15%\n",
      "Epoch : 10 ----- Loss : 0.04 ----- Train acc : 98.52% ----- Valid acc : 97.63%\n",
      "Epoch : 11 ----- Loss : 0.04 ----- Train acc : 98.63% ----- Valid acc : 97.13%\n",
      "Epoch : 12 ----- Loss : 0.04 ----- Train acc : 98.74% ----- Valid acc : 97.41%\n",
      "Epoch : 13 ----- Loss : 0.04 ----- Train acc : 98.69% ----- Valid acc : 97.33%\n",
      "Epoch : 14 ----- Loss : 0.04 ----- Train acc : 98.85% ----- Valid acc : 97.68%\n",
      "Epoch : 15 ----- Loss : 0.03 ----- Train acc : 98.89% ----- Valid acc : 97.38%\n",
      "Epoch : 16 ----- Loss : 0.04 ----- Train acc : 98.86% ----- Valid acc : 97.40%\n",
      "Epoch : 17 ----- Loss : 0.03 ----- Train acc : 98.99% ----- Valid acc : 97.36%\n",
      "Epoch : 18 ----- Loss : 0.03 ----- Train acc : 98.95% ----- Valid acc : 97.77%\n",
      "Epoch : 19 ----- Loss : 0.03 ----- Train acc : 99.06% ----- Valid acc : 97.52%\n",
      "Epoch : 20 ----- Loss : 0.03 ----- Train acc : 98.98% ----- Valid acc : 97.40%\n",
      "Epoch : 21 ----- Loss : 0.03 ----- Train acc : 99.15% ----- Valid acc : 97.88%\n",
      "Epoch : 22 ----- Loss : 0.03 ----- Train acc : 99.13% ----- Valid acc : 97.58%\n",
      "Epoch : 23 ----- Loss : 0.03 ----- Train acc : 99.18% ----- Valid acc : 97.44%\n",
      "Epoch : 24 ----- Loss : 0.03 ----- Train acc : 99.20% ----- Valid acc : 97.67%\n"
     ]
    }
   ],
   "source": [
    "model = CustomActvClf(nn.ReLU, name='relu')\n",
    "train(model, dataloaders, n_epochs)"
   ]
  },
  {
   "cell_type": "markdown",
   "metadata": {},
   "source": [
    "##### ReSU model"
   ]
  },
  {
   "cell_type": "code",
   "execution_count": 25,
   "metadata": {},
   "outputs": [
    {
     "name": "stdout",
     "output_type": "stream",
     "text": [
      "Epoch : 0 ----- Loss : 0.47 ----- Train acc : 85.97% ----- Valid acc : 90.90%\n",
      "Epoch : 1 ----- Loss : 0.29 ----- Train acc : 91.15% ----- Valid acc : 90.70%\n",
      "Epoch : 2 ----- Loss : 0.24 ----- Train acc : 92.59% ----- Valid acc : 92.81%\n",
      "Epoch : 3 ----- Loss : 0.22 ----- Train acc : 93.17% ----- Valid acc : 93.86%\n",
      "Epoch : 4 ----- Loss : 0.21 ----- Train acc : 93.57% ----- Valid acc : 94.64%\n",
      "Epoch : 5 ----- Loss : 0.18 ----- Train acc : 94.53% ----- Valid acc : 94.28%\n",
      "Epoch : 6 ----- Loss : 0.17 ----- Train acc : 94.65% ----- Valid acc : 95.13%\n",
      "Epoch : 7 ----- Loss : 0.16 ----- Train acc : 95.10% ----- Valid acc : 95.37%\n",
      "Epoch : 8 ----- Loss : 0.15 ----- Train acc : 95.36% ----- Valid acc : 95.29%\n",
      "Epoch : 9 ----- Loss : 0.14 ----- Train acc : 95.52% ----- Valid acc : 95.28%\n",
      "Epoch : 10 ----- Loss : 0.14 ----- Train acc : 95.80% ----- Valid acc : 95.10%\n",
      "Epoch : 11 ----- Loss : 0.14 ----- Train acc : 95.70% ----- Valid acc : 95.25%\n",
      "Epoch : 12 ----- Loss : 0.13 ----- Train acc : 95.98% ----- Valid acc : 95.83%\n",
      "Epoch : 13 ----- Loss : 0.12 ----- Train acc : 96.16% ----- Valid acc : 95.16%\n",
      "Epoch : 14 ----- Loss : 0.12 ----- Train acc : 96.39% ----- Valid acc : 95.28%\n",
      "Epoch : 15 ----- Loss : 0.11 ----- Train acc : 96.54% ----- Valid acc : 96.47%\n",
      "Epoch : 16 ----- Loss : 0.10 ----- Train acc : 96.77% ----- Valid acc : 96.09%\n",
      "Epoch : 17 ----- Loss : 0.09 ----- Train acc : 96.99% ----- Valid acc : 95.70%\n",
      "Epoch : 18 ----- Loss : 0.10 ----- Train acc : 96.88% ----- Valid acc : 96.18%\n",
      "Epoch : 19 ----- Loss : 0.09 ----- Train acc : 97.14% ----- Valid acc : 96.66%\n",
      "Epoch : 20 ----- Loss : 0.09 ----- Train acc : 97.06% ----- Valid acc : 96.79%\n",
      "Epoch : 21 ----- Loss : 0.09 ----- Train acc : 97.16% ----- Valid acc : 96.40%\n",
      "Epoch : 22 ----- Loss : 0.08 ----- Train acc : 97.37% ----- Valid acc : 96.78%\n",
      "Epoch : 23 ----- Loss : 0.08 ----- Train acc : 97.33% ----- Valid acc : 96.52%\n",
      "Epoch : 24 ----- Loss : 0.08 ----- Train acc : 97.39% ----- Valid acc : 97.02%\n"
     ]
    }
   ],
   "source": [
    "model = CustomActvClf(actv.ReSU, name='resu')\n",
    "train(model, dataloaders, n_epochs)"
   ]
  },
  {
   "cell_type": "markdown",
   "metadata": {},
   "source": [
    "##### ReLogU model"
   ]
  },
  {
   "cell_type": "code",
   "execution_count": 26,
   "metadata": {},
   "outputs": [
    {
     "name": "stdout",
     "output_type": "stream",
     "text": [
      "Epoch : 0 ----- Loss : 0.34 ----- Train acc : 89.71% ----- Valid acc : 94.30%\n",
      "Epoch : 1 ----- Loss : 0.18 ----- Train acc : 94.37% ----- Valid acc : 94.88%\n",
      "Epoch : 2 ----- Loss : 0.14 ----- Train acc : 95.51% ----- Valid acc : 93.35%\n",
      "Epoch : 3 ----- Loss : 0.12 ----- Train acc : 96.16% ----- Valid acc : 95.91%\n",
      "Epoch : 4 ----- Loss : 0.11 ----- Train acc : 96.61% ----- Valid acc : 96.16%\n",
      "Epoch : 5 ----- Loss : 0.10 ----- Train acc : 96.89% ----- Valid acc : 96.40%\n",
      "Epoch : 6 ----- Loss : 0.09 ----- Train acc : 97.18% ----- Valid acc : 96.70%\n",
      "Epoch : 7 ----- Loss : 0.08 ----- Train acc : 97.39% ----- Valid acc : 97.23%\n",
      "Epoch : 8 ----- Loss : 0.07 ----- Train acc : 97.61% ----- Valid acc : 97.02%\n",
      "Epoch : 9 ----- Loss : 0.07 ----- Train acc : 97.69% ----- Valid acc : 96.57%\n",
      "Epoch : 10 ----- Loss : 0.06 ----- Train acc : 97.94% ----- Valid acc : 97.21%\n",
      "Epoch : 11 ----- Loss : 0.06 ----- Train acc : 97.97% ----- Valid acc : 96.64%\n",
      "Epoch : 12 ----- Loss : 0.06 ----- Train acc : 98.09% ----- Valid acc : 97.37%\n",
      "Epoch : 13 ----- Loss : 0.05 ----- Train acc : 98.28% ----- Valid acc : 97.24%\n",
      "Epoch : 14 ----- Loss : 0.05 ----- Train acc : 98.40% ----- Valid acc : 97.28%\n",
      "Epoch : 15 ----- Loss : 0.05 ----- Train acc : 98.45% ----- Valid acc : 97.14%\n",
      "Epoch : 16 ----- Loss : 0.05 ----- Train acc : 98.44% ----- Valid acc : 97.30%\n",
      "Epoch : 17 ----- Loss : 0.04 ----- Train acc : 98.48% ----- Valid acc : 97.06%\n",
      "Epoch : 18 ----- Loss : 0.04 ----- Train acc : 98.65% ----- Valid acc : 97.38%\n",
      "Epoch : 19 ----- Loss : 0.04 ----- Train acc : 98.69% ----- Valid acc : 97.30%\n",
      "Epoch : 20 ----- Loss : 0.04 ----- Train acc : 98.75% ----- Valid acc : 97.41%\n",
      "Epoch : 21 ----- Loss : 0.04 ----- Train acc : 98.68% ----- Valid acc : 97.11%\n",
      "Epoch : 22 ----- Loss : 0.04 ----- Train acc : 98.80% ----- Valid acc : 97.53%\n",
      "Epoch : 23 ----- Loss : 0.03 ----- Train acc : 98.92% ----- Valid acc : 97.57%\n",
      "Epoch : 24 ----- Loss : 0.03 ----- Train acc : 98.93% ----- Valid acc : 96.11%\n"
     ]
    }
   ],
   "source": [
    "model = CustomActvClf(actv.ReLogU, name='relogu')\n",
    "train(model, dataloaders, n_epochs)"
   ]
  },
  {
   "cell_type": "markdown",
   "metadata": {},
   "source": [
    "##### Leaky ReLU model"
   ]
  },
  {
   "cell_type": "code",
   "execution_count": 27,
   "metadata": {},
   "outputs": [
    {
     "name": "stdout",
     "output_type": "stream",
     "text": [
      "Epoch : 0 ----- Loss : 0.30 ----- Train acc : 90.82% ----- Valid acc : 94.84%\n",
      "Epoch : 1 ----- Loss : 0.15 ----- Train acc : 95.34% ----- Valid acc : 94.88%\n",
      "Epoch : 2 ----- Loss : 0.11 ----- Train acc : 96.51% ----- Valid acc : 97.27%\n",
      "Epoch : 3 ----- Loss : 0.10 ----- Train acc : 96.97% ----- Valid acc : 96.64%\n",
      "Epoch : 4 ----- Loss : 0.08 ----- Train acc : 97.47% ----- Valid acc : 97.28%\n",
      "Epoch : 5 ----- Loss : 0.07 ----- Train acc : 97.72% ----- Valid acc : 97.16%\n",
      "Epoch : 6 ----- Loss : 0.07 ----- Train acc : 97.86% ----- Valid acc : 97.17%\n",
      "Epoch : 7 ----- Loss : 0.06 ----- Train acc : 98.16% ----- Valid acc : 96.91%\n",
      "Epoch : 8 ----- Loss : 0.06 ----- Train acc : 98.14% ----- Valid acc : 97.79%\n",
      "Epoch : 9 ----- Loss : 0.05 ----- Train acc : 98.34% ----- Valid acc : 97.39%\n",
      "Epoch : 10 ----- Loss : 0.05 ----- Train acc : 98.45% ----- Valid acc : 96.63%\n",
      "Epoch : 11 ----- Loss : 0.05 ----- Train acc : 98.55% ----- Valid acc : 97.40%\n",
      "Epoch : 12 ----- Loss : 0.04 ----- Train acc : 98.57% ----- Valid acc : 97.68%\n",
      "Epoch : 13 ----- Loss : 0.04 ----- Train acc : 98.81% ----- Valid acc : 97.54%\n",
      "Epoch : 14 ----- Loss : 0.04 ----- Train acc : 98.69% ----- Valid acc : 97.81%\n",
      "Epoch : 15 ----- Loss : 0.04 ----- Train acc : 98.78% ----- Valid acc : 97.44%\n",
      "Epoch : 16 ----- Loss : 0.04 ----- Train acc : 98.84% ----- Valid acc : 96.83%\n",
      "Epoch : 17 ----- Loss : 0.04 ----- Train acc : 98.97% ----- Valid acc : 95.27%\n",
      "Epoch : 18 ----- Loss : 0.04 ----- Train acc : 98.88% ----- Valid acc : 97.74%\n",
      "Epoch : 19 ----- Loss : 0.04 ----- Train acc : 98.89% ----- Valid acc : 97.74%\n",
      "Epoch : 20 ----- Loss : 0.03 ----- Train acc : 99.07% ----- Valid acc : 97.69%\n",
      "Epoch : 21 ----- Loss : 0.03 ----- Train acc : 99.02% ----- Valid acc : 97.94%\n",
      "Epoch : 22 ----- Loss : 0.03 ----- Train acc : 99.06% ----- Valid acc : 97.68%\n",
      "Epoch : 23 ----- Loss : 0.04 ----- Train acc : 99.03% ----- Valid acc : 97.81%\n",
      "Epoch : 24 ----- Loss : 0.03 ----- Train acc : 99.12% ----- Valid acc : 97.87%\n"
     ]
    }
   ],
   "source": [
    "model = CustomActvClf(nn.LeakyReLU, name='leakyrelu')\n",
    "train(model, dataloaders, n_epochs)"
   ]
  },
  {
   "cell_type": "markdown",
   "metadata": {},
   "source": [
    "##### Sigmoid model"
   ]
  },
  {
   "cell_type": "code",
   "execution_count": 28,
   "metadata": {},
   "outputs": [
    {
     "name": "stdout",
     "output_type": "stream",
     "text": [
      "Epoch : 0 ----- Loss : 0.37 ----- Train acc : 88.67% ----- Valid acc : 94.39%\n",
      "Epoch : 1 ----- Loss : 0.16 ----- Train acc : 95.09% ----- Valid acc : 94.72%\n",
      "Epoch : 2 ----- Loss : 0.12 ----- Train acc : 96.38% ----- Valid acc : 96.67%\n",
      "Epoch : 3 ----- Loss : 0.10 ----- Train acc : 96.92% ----- Valid acc : 96.42%\n",
      "Epoch : 4 ----- Loss : 0.08 ----- Train acc : 97.34% ----- Valid acc : 97.08%\n",
      "Epoch : 5 ----- Loss : 0.07 ----- Train acc : 97.62% ----- Valid acc : 97.05%\n",
      "Epoch : 6 ----- Loss : 0.07 ----- Train acc : 97.86% ----- Valid acc : 96.92%\n",
      "Epoch : 7 ----- Loss : 0.06 ----- Train acc : 97.97% ----- Valid acc : 96.86%\n",
      "Epoch : 8 ----- Loss : 0.06 ----- Train acc : 98.04% ----- Valid acc : 97.01%\n",
      "Epoch : 9 ----- Loss : 0.05 ----- Train acc : 98.23% ----- Valid acc : 97.27%\n",
      "Epoch : 10 ----- Loss : 0.05 ----- Train acc : 98.21% ----- Valid acc : 97.23%\n",
      "Epoch : 11 ----- Loss : 0.05 ----- Train acc : 98.41% ----- Valid acc : 97.35%\n",
      "Epoch : 12 ----- Loss : 0.05 ----- Train acc : 98.47% ----- Valid acc : 97.44%\n",
      "Epoch : 13 ----- Loss : 0.05 ----- Train acc : 98.47% ----- Valid acc : 97.06%\n",
      "Epoch : 14 ----- Loss : 0.04 ----- Train acc : 98.56% ----- Valid acc : 97.14%\n",
      "Epoch : 15 ----- Loss : 0.04 ----- Train acc : 98.62% ----- Valid acc : 96.83%\n",
      "Epoch : 16 ----- Loss : 0.04 ----- Train acc : 98.76% ----- Valid acc : 97.13%\n",
      "Epoch : 17 ----- Loss : 0.04 ----- Train acc : 98.60% ----- Valid acc : 97.41%\n",
      "Epoch : 18 ----- Loss : 0.03 ----- Train acc : 98.84% ----- Valid acc : 97.23%\n",
      "Epoch : 19 ----- Loss : 0.04 ----- Train acc : 98.78% ----- Valid acc : 97.71%\n",
      "Epoch : 20 ----- Loss : 0.03 ----- Train acc : 98.85% ----- Valid acc : 97.28%\n",
      "Epoch : 21 ----- Loss : 0.04 ----- Train acc : 98.77% ----- Valid acc : 97.31%\n",
      "Epoch : 22 ----- Loss : 0.04 ----- Train acc : 98.72% ----- Valid acc : 97.30%\n",
      "Epoch : 23 ----- Loss : 0.04 ----- Train acc : 98.84% ----- Valid acc : 97.38%\n",
      "Epoch : 24 ----- Loss : 0.03 ----- Train acc : 98.81% ----- Valid acc : 97.05%\n"
     ]
    }
   ],
   "source": [
    "model = CustomActvClf(nn.Sigmoid, name='sigmoid')\n",
    "train(model, dataloaders, n_epochs)"
   ]
  },
  {
   "cell_type": "markdown",
   "metadata": {},
   "source": [
    "##### Tanh model"
   ]
  },
  {
   "cell_type": "code",
   "execution_count": 29,
   "metadata": {},
   "outputs": [
    {
     "name": "stdout",
     "output_type": "stream",
     "text": [
      "Epoch : 0 ----- Loss : 0.31 ----- Train acc : 90.63% ----- Valid acc : 93.29%\n",
      "Epoch : 1 ----- Loss : 0.18 ----- Train acc : 94.23% ----- Valid acc : 95.67%\n",
      "Epoch : 2 ----- Loss : 0.16 ----- Train acc : 95.01% ----- Valid acc : 94.59%\n",
      "Epoch : 3 ----- Loss : 0.15 ----- Train acc : 95.42% ----- Valid acc : 95.10%\n",
      "Epoch : 4 ----- Loss : 0.14 ----- Train acc : 95.59% ----- Valid acc : 95.07%\n",
      "Epoch : 5 ----- Loss : 0.14 ----- Train acc : 95.60% ----- Valid acc : 94.98%\n",
      "Epoch : 6 ----- Loss : 0.13 ----- Train acc : 95.86% ----- Valid acc : 95.88%\n",
      "Epoch : 7 ----- Loss : 0.13 ----- Train acc : 95.89% ----- Valid acc : 96.07%\n",
      "Epoch : 8 ----- Loss : 0.13 ----- Train acc : 96.12% ----- Valid acc : 95.79%\n",
      "Epoch : 9 ----- Loss : 0.13 ----- Train acc : 96.10% ----- Valid acc : 94.53%\n",
      "Epoch : 10 ----- Loss : 0.13 ----- Train acc : 96.01% ----- Valid acc : 95.40%\n",
      "Epoch : 11 ----- Loss : 0.13 ----- Train acc : 96.02% ----- Valid acc : 95.50%\n",
      "Epoch : 12 ----- Loss : 0.12 ----- Train acc : 96.15% ----- Valid acc : 95.07%\n",
      "Epoch : 13 ----- Loss : 0.13 ----- Train acc : 96.12% ----- Valid acc : 96.12%\n",
      "Epoch : 14 ----- Loss : 0.13 ----- Train acc : 96.12% ----- Valid acc : 95.85%\n",
      "Epoch : 15 ----- Loss : 0.12 ----- Train acc : 96.18% ----- Valid acc : 95.13%\n",
      "Epoch : 16 ----- Loss : 0.13 ----- Train acc : 96.10% ----- Valid acc : 96.21%\n",
      "Epoch : 17 ----- Loss : 0.13 ----- Train acc : 95.94% ----- Valid acc : 95.14%\n",
      "Epoch : 18 ----- Loss : 0.13 ----- Train acc : 96.08% ----- Valid acc : 94.85%\n",
      "Epoch : 19 ----- Loss : 0.13 ----- Train acc : 96.03% ----- Valid acc : 95.62%\n",
      "Epoch : 20 ----- Loss : 0.13 ----- Train acc : 96.04% ----- Valid acc : 95.44%\n",
      "Epoch : 21 ----- Loss : 0.13 ----- Train acc : 96.09% ----- Valid acc : 95.88%\n",
      "Epoch : 22 ----- Loss : 0.14 ----- Train acc : 95.74% ----- Valid acc : 95.27%\n",
      "Epoch : 23 ----- Loss : 0.13 ----- Train acc : 95.96% ----- Valid acc : 95.74%\n",
      "Epoch : 24 ----- Loss : 0.13 ----- Train acc : 96.15% ----- Valid acc : 95.05%\n"
     ]
    }
   ],
   "source": [
    "model = CustomActvClf(nn.Tanh, name='tanh')\n",
    "train(model, dataloaders, n_epochs)"
   ]
  },
  {
   "cell_type": "markdown",
   "metadata": {},
   "source": [
    "##### SimSqrt model"
   ]
  },
  {
   "cell_type": "code",
   "execution_count": 30,
   "metadata": {},
   "outputs": [
    {
     "name": "stdout",
     "output_type": "stream",
     "text": [
      "Epoch : 0 ----- Loss : 0.49 ----- Train acc : 85.04% ----- Valid acc : 91.23%\n",
      "Epoch : 1 ----- Loss : 0.38 ----- Train acc : 88.62% ----- Valid acc : 88.86%\n",
      "Epoch : 2 ----- Loss : 0.32 ----- Train acc : 90.59% ----- Valid acc : 89.53%\n",
      "Epoch : 3 ----- Loss : 0.30 ----- Train acc : 91.44% ----- Valid acc : 89.10%\n",
      "Epoch : 4 ----- Loss : 0.28 ----- Train acc : 91.94% ----- Valid acc : 90.97%\n",
      "Epoch : 5 ----- Loss : 0.25 ----- Train acc : 92.69% ----- Valid acc : 91.40%\n",
      "Epoch : 6 ----- Loss : 0.25 ----- Train acc : 92.76% ----- Valid acc : 92.93%\n",
      "Epoch : 7 ----- Loss : 0.23 ----- Train acc : 93.33% ----- Valid acc : 91.34%\n",
      "Epoch : 8 ----- Loss : 0.22 ----- Train acc : 93.79% ----- Valid acc : 94.33%\n",
      "Epoch : 9 ----- Loss : 0.22 ----- Train acc : 93.99% ----- Valid acc : 94.78%\n",
      "Epoch : 10 ----- Loss : 0.21 ----- Train acc : 94.30% ----- Valid acc : 95.64%\n",
      "Epoch : 11 ----- Loss : 0.20 ----- Train acc : 94.56% ----- Valid acc : 93.77%\n",
      "Epoch : 12 ----- Loss : 0.20 ----- Train acc : 94.68% ----- Valid acc : 94.93%\n",
      "Epoch : 13 ----- Loss : 0.20 ----- Train acc : 94.65% ----- Valid acc : 95.27%\n",
      "Epoch : 14 ----- Loss : 0.18 ----- Train acc : 95.20% ----- Valid acc : 96.06%\n",
      "Epoch : 15 ----- Loss : 0.19 ----- Train acc : 94.83% ----- Valid acc : 95.32%\n",
      "Epoch : 16 ----- Loss : 0.18 ----- Train acc : 95.19% ----- Valid acc : 95.41%\n",
      "Epoch : 17 ----- Loss : 0.17 ----- Train acc : 95.49% ----- Valid acc : 95.66%\n",
      "Epoch : 18 ----- Loss : 0.17 ----- Train acc : 95.50% ----- Valid acc : 95.79%\n",
      "Epoch : 19 ----- Loss : 0.16 ----- Train acc : 95.88% ----- Valid acc : 95.07%\n",
      "Epoch : 20 ----- Loss : 0.16 ----- Train acc : 95.91% ----- Valid acc : 92.15%\n",
      "Epoch : 21 ----- Loss : 0.18 ----- Train acc : 95.53% ----- Valid acc : 95.62%\n",
      "Epoch : 22 ----- Loss : 0.16 ----- Train acc : 96.09% ----- Valid acc : 95.40%\n",
      "Epoch : 23 ----- Loss : 0.17 ----- Train acc : 95.77% ----- Valid acc : 96.11%\n",
      "Epoch : 24 ----- Loss : 0.17 ----- Train acc : 95.94% ----- Valid acc : 95.33%\n"
     ]
    }
   ],
   "source": [
    "model = CustomActvClf(actv.SimSqrt, name='simsqrt')\n",
    "train(model, dataloaders, n_epochs)"
   ]
  },
  {
   "cell_type": "markdown",
   "metadata": {},
   "source": [
    "##### SimLog model"
   ]
  },
  {
   "cell_type": "code",
   "execution_count": 31,
   "metadata": {},
   "outputs": [
    {
     "name": "stdout",
     "output_type": "stream",
     "text": [
      "Epoch : 0 ----- Loss : 0.38 ----- Train acc : 88.48% ----- Valid acc : 91.70%\n",
      "Epoch : 1 ----- Loss : 0.23 ----- Train acc : 93.30% ----- Valid acc : 94.52%\n",
      "Epoch : 2 ----- Loss : 0.17 ----- Train acc : 94.85% ----- Valid acc : 94.65%\n",
      "Epoch : 3 ----- Loss : 0.15 ----- Train acc : 95.49% ----- Valid acc : 96.34%\n",
      "Epoch : 4 ----- Loss : 0.13 ----- Train acc : 96.21% ----- Valid acc : 95.65%\n",
      "Epoch : 5 ----- Loss : 0.11 ----- Train acc : 96.73% ----- Valid acc : 96.47%\n",
      "Epoch : 6 ----- Loss : 0.10 ----- Train acc : 96.96% ----- Valid acc : 96.31%\n",
      "Epoch : 7 ----- Loss : 0.10 ----- Train acc : 96.99% ----- Valid acc : 97.31%\n",
      "Epoch : 8 ----- Loss : 0.08 ----- Train acc : 97.50% ----- Valid acc : 96.89%\n",
      "Epoch : 9 ----- Loss : 0.09 ----- Train acc : 97.48% ----- Valid acc : 97.02%\n",
      "Epoch : 10 ----- Loss : 0.08 ----- Train acc : 97.64% ----- Valid acc : 96.81%\n",
      "Epoch : 11 ----- Loss : 0.08 ----- Train acc : 97.77% ----- Valid acc : 96.73%\n",
      "Epoch : 12 ----- Loss : 0.07 ----- Train acc : 97.90% ----- Valid acc : 97.08%\n",
      "Epoch : 13 ----- Loss : 0.07 ----- Train acc : 98.01% ----- Valid acc : 96.59%\n",
      "Epoch : 14 ----- Loss : 0.06 ----- Train acc : 98.19% ----- Valid acc : 97.23%\n",
      "Epoch : 15 ----- Loss : 0.06 ----- Train acc : 98.11% ----- Valid acc : 97.18%\n",
      "Epoch : 16 ----- Loss : 0.06 ----- Train acc : 98.34% ----- Valid acc : 97.52%\n",
      "Epoch : 17 ----- Loss : 0.06 ----- Train acc : 98.32% ----- Valid acc : 97.12%\n",
      "Epoch : 18 ----- Loss : 0.06 ----- Train acc : 98.42% ----- Valid acc : 97.72%\n",
      "Epoch : 19 ----- Loss : 0.05 ----- Train acc : 98.52% ----- Valid acc : 97.36%\n",
      "Epoch : 20 ----- Loss : 0.06 ----- Train acc : 98.49% ----- Valid acc : 97.10%\n",
      "Epoch : 21 ----- Loss : 0.05 ----- Train acc : 98.58% ----- Valid acc : 96.54%\n",
      "Epoch : 22 ----- Loss : 0.05 ----- Train acc : 98.52% ----- Valid acc : 97.49%\n",
      "Epoch : 23 ----- Loss : 0.05 ----- Train acc : 98.70% ----- Valid acc : 96.51%\n",
      "Epoch : 24 ----- Loss : 0.05 ----- Train acc : 98.68% ----- Valid acc : 97.30%\n"
     ]
    }
   ],
   "source": [
    "model = CustomActvClf(actv.SimLog, name='simlog')\n",
    "train(model, dataloaders, n_epochs)"
   ]
  },
  {
   "cell_type": "markdown",
   "metadata": {},
   "source": [
    "##### SoftSign model"
   ]
  },
  {
   "cell_type": "code",
   "execution_count": 32,
   "metadata": {},
   "outputs": [
    {
     "name": "stdout",
     "output_type": "stream",
     "text": [
      "Epoch : 0 ----- Loss : 0.33 ----- Train acc : 89.74% ----- Valid acc : 92.50%\n",
      "Epoch : 1 ----- Loss : 0.19 ----- Train acc : 94.33% ----- Valid acc : 95.39%\n",
      "Epoch : 2 ----- Loss : 0.15 ----- Train acc : 95.22% ----- Valid acc : 95.63%\n",
      "Epoch : 3 ----- Loss : 0.13 ----- Train acc : 95.85% ----- Valid acc : 96.09%\n",
      "Epoch : 4 ----- Loss : 0.12 ----- Train acc : 96.35% ----- Valid acc : 96.07%\n",
      "Epoch : 5 ----- Loss : 0.11 ----- Train acc : 96.52% ----- Valid acc : 96.33%\n",
      "Epoch : 6 ----- Loss : 0.10 ----- Train acc : 96.76% ----- Valid acc : 96.18%\n",
      "Epoch : 7 ----- Loss : 0.10 ----- Train acc : 96.93% ----- Valid acc : 95.81%\n",
      "Epoch : 8 ----- Loss : 0.09 ----- Train acc : 97.11% ----- Valid acc : 96.40%\n",
      "Epoch : 9 ----- Loss : 0.09 ----- Train acc : 97.26% ----- Valid acc : 95.66%\n",
      "Epoch : 10 ----- Loss : 0.08 ----- Train acc : 97.35% ----- Valid acc : 96.88%\n",
      "Epoch : 11 ----- Loss : 0.08 ----- Train acc : 97.34% ----- Valid acc : 96.78%\n",
      "Epoch : 12 ----- Loss : 0.08 ----- Train acc : 97.52% ----- Valid acc : 97.25%\n",
      "Epoch : 13 ----- Loss : 0.08 ----- Train acc : 97.53% ----- Valid acc : 96.98%\n",
      "Epoch : 14 ----- Loss : 0.07 ----- Train acc : 97.68% ----- Valid acc : 96.14%\n",
      "Epoch : 15 ----- Loss : 0.08 ----- Train acc : 97.49% ----- Valid acc : 96.00%\n",
      "Epoch : 16 ----- Loss : 0.07 ----- Train acc : 97.74% ----- Valid acc : 96.61%\n",
      "Epoch : 17 ----- Loss : 0.07 ----- Train acc : 97.77% ----- Valid acc : 96.84%\n",
      "Epoch : 18 ----- Loss : 0.07 ----- Train acc : 97.79% ----- Valid acc : 97.23%\n",
      "Epoch : 19 ----- Loss : 0.07 ----- Train acc : 97.76% ----- Valid acc : 96.91%\n",
      "Epoch : 20 ----- Loss : 0.07 ----- Train acc : 97.85% ----- Valid acc : 97.20%\n",
      "Epoch : 21 ----- Loss : 0.06 ----- Train acc : 97.93% ----- Valid acc : 97.16%\n",
      "Epoch : 22 ----- Loss : 0.06 ----- Train acc : 98.04% ----- Valid acc : 96.94%\n",
      "Epoch : 23 ----- Loss : 0.06 ----- Train acc : 98.15% ----- Valid acc : 97.69%\n",
      "Epoch : 24 ----- Loss : 0.06 ----- Train acc : 98.02% ----- Valid acc : 97.17%\n"
     ]
    }
   ],
   "source": [
    "model = CustomActvClf(nn.Softsign, name='softsign')\n",
    "train(model, dataloaders, n_epochs)"
   ]
  },
  {
   "cell_type": "code",
   "execution_count": 12,
   "metadata": {},
   "outputs": [
    {
     "data": {
      "image/png": "[encoded data removed]",
      "text/plain": [
       "<matplotlib.figure.Figure at 0x1142e6da0>"
      ]
     },
     "metadata": {},
     "output_type": "display_data"
    }
   ],
   "source": [
    "#plt.plot(loss_relu, label='relu')\n",
    "#plt.plot(loss_leaky, label='leakytanh')\n",
    "#plt.plot(loss_soft, label='softsign')\n",
    "plt.plot(loss_relogu, label='relogu')\n",
    "plt.legend(fancybox=True)\n",
    "plt.show()"
   ]
  },
  {
   "cell_type": "code",
   "execution_count": 16,
   "metadata": {},
   "outputs": [
    {
     "data": {
      "image/png": "[encoded data removed]",
      "text/plain": [
       "<matplotlib.figure.Figure at 0x127df75f8>"
      ]
     },
     "metadata": {},
     "output_type": "display_data"
    }
   ],
   "source": [
    "plt.plot(train_acc_relu, label='Train relu')\n",
    "plt.plot(valid_acc_relu, label='Valid relu')\n",
    "plt.plot(train_acc_leaky, label='Train leakytanh')\n",
    "plt.plot(valid_acc_leaky, label='Valid leakytanh')\n",
    "\n",
    "plt.legend(fancybox=True)\n",
    "plt.show()"
   ]
  },
  {
   "cell_type": "code",
   "execution_count": 47,
   "metadata": {
    "collapsed": true
   },
   "outputs": [],
   "source": [
    "activations = ['sin', 'relu', 'resu', 'relogu', 'leakyrelu', \n",
    "               'sigmoid', 'tanh', 'simsqrt', 'simlog', 'softsign']"
   ]
  },
  {
   "cell_type": "code",
   "execution_count": 51,
   "metadata": {},
   "outputs": [
    {
     "data": {
      "image/png": "[encoded data removed]",
      "text/plain": [
       "<matplotlib.figure.Figure at 0x7f11789865f8>"
      ]
     },
     "metadata": {},
     "output_type": "display_data"
    }
   ],
   "source": [
    "i = 0\n",
    "for name in activations:\n",
    "    \n",
    "    loss = np.loadtxt(results_dir + name + '_loss.txt')\n",
    "    \n",
    "    plt.plot(np.arange(n_epochs), loss, c='C%d'%i, label=name)\n",
    "    i += 1\n",
    "    i = i % 10\n",
    "\n",
    "plt.xlabel('Number of epochs')\n",
    "plt.ylabel('Loss')\n",
    "plt.legend(fancybox=True, loc='center left', bbox_to_anchor=(1, 0.5))\n",
    "plt.axis([0, n_epochs-1, 0, 0.5])\n",
    "plt.savefig(results_dir + 'loss.png')\n",
    "plt.show()"
   ]
  },
  {
   "cell_type": "code",
   "execution_count": 50,
   "metadata": {},
   "outputs": [
    {
     "data": {
      "image/png": "[encoded data removed]",
      "text/plain": [
       "<matplotlib.figure.Figure at 0x7f115fd8acf8>"
      ]
     },
     "metadata": {},
     "output_type": "display_data"
    }
   ],
   "source": [
    "i = 0\n",
    "for name in activations:\n",
    "    \n",
    "    train_acc = np.loadtxt(results_dir + name + '_train_acc.txt')\n",
    "    \n",
    "    plt.plot(np.arange(n_epochs), train_acc, c='C%d'%i, label=name)\n",
    "    i += 1\n",
    "    i = i % 10\n",
    "\n",
    "plt.xlabel('Number of epochs')\n",
    "plt.ylabel('Train accuracy')\n",
    "plt.legend(fancybox=True, loc='center left', bbox_to_anchor=(1, 0.5))\n",
    "# plt.axis([0, n_epochs-1, 0, 0.5])\n",
    "plt.savefig(results_dir + 'train_acc.png')\n",
    "plt.show()"
   ]
  },
  {
   "cell_type": "code",
   "execution_count": null,
   "metadata": {},
   "outputs": [],
   "source": []
  }
 ],
 "metadata": {
  "kernelspec": {
   "display_name": "Python 3",
   "language": "python",
   "name": "python3"
  },
  "language_info": {
   "codemirror_mode": {
    "name": "ipython",
    "version": 3
   },
   "file_extension": ".py",
   "mimetype": "text/x-python",
   "name": "python",
   "nbconvert_exporter": "python",
   "pygments_lexer": "ipython3",
   "version": "3.6.4"
  }
 },
 "nbformat": 4,
 "nbformat_minor": 2
}
